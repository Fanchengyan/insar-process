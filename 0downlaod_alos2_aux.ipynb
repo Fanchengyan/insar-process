{
 "cells": [
  {
   "cell_type": "markdown",
   "metadata": {},
   "source": [
    "# downloading ALOS-2 aux data\n",
    "\n",
    "When using ISCE to process ALOS-2 data, the aux data(dem1, dem3, wbd) should be specified. following code is used to prepare the stack folder structure from raw ALOS data and download those aux data into this home folder."
   ]
  },
  {
   "cell_type": "code",
   "execution_count": null,
   "metadata": {},
   "outputs": [],
   "source": [
    "import os\n",
    "from pathlib import Path\n",
    "\n",
    "# raw data of unzipped ALOS-2\n",
    "data_dir = Path('/data/alos2/data')\n",
    "# folder for processing the ALOS-2\n",
    "stack_dir = Path('/data/alos2/isce_process')\n",
    "# folder contains ALOS-2 data linked from 'data_dir' folder\n",
    "alos_data_dir = stack_dir / 'alos_data'\n",
    "\n",
    "files = sorted(data_dir.rglob('*.1__D-F1'))\n",
    "\n",
    "\n",
    "def ensure_dir(folder):\n",
    "    if not folder.is_dir():\n",
    "        folder.mkdir(parents=True)"
   ]
  },
  {
   "cell_type": "markdown",
   "metadata": {},
   "source": [
    "Let's link the raw ALOS-2 data to the processing folder"
   ]
  },
  {
   "cell_type": "code",
   "execution_count": null,
   "metadata": {},
   "outputs": [],
   "source": [
    "######################  link data ##################\n",
    "# specify the date to use\n",
    "date_used = ['210919', '211031', '211212', '220123', '220114']\n",
    "# date_used = None    # for all available date\n",
    "\n",
    "for file in files:\n",
    "    raw_folder = file.parent\n",
    "    name = file.stem\n",
    "    date = name.split('-')[-2]\n",
    "    if date_used is not None:\n",
    "        if not date in date_used:\n",
    "            continue\n",
    "\n",
    "    date_dir = alos_data_dir / date\n",
    "    ensure_dir(date_dir)\n",
    "\n",
    "    ln_cmd = f'ln -sf {raw_folder}/* {date_dir}/'\n",
    "    os.system(ln_cmd)"
   ]
  },
  {
   "cell_type": "markdown",
   "metadata": {},
   "source": [
    "Specify the aux folders"
   ]
  },
  {
   "cell_type": "code",
   "execution_count": null,
   "metadata": {},
   "outputs": [],
   "source": [
    "######################  aux data ##################\n",
    "aux_dir = stack_dir / 'aux_data'\n",
    "ensure_dir(aux_dir)\n",
    "\n",
    "dem1_dir = aux_dir / 'dem_1_arcsec'\n",
    "ensure_dir(dem1_dir)\n",
    "dem3_dir = aux_dir / 'dem_3_arcsec'\n",
    "ensure_dir(dem3_dir)\n",
    "\n",
    "wb_dir = aux_dir / 'wbd_1_arcsec'\n",
    "ensure_dir(wb_dir)"
   ]
  },
  {
   "cell_type": "markdown",
   "metadata": {},
   "source": [
    "Downloading the aux files"
   ]
  },
  {
   "cell_type": "code",
   "execution_count": null,
   "metadata": {},
   "outputs": [],
   "source": [
    "# %%  download aux\n",
    "\n",
    "box = '36 40 97 103'  # the extent of dem with order [S, N, W, E]\n",
    "os.chdir(dem1_dir)\n",
    "dl_dem1 = f'dem.py -a stitch -b {box} -k -s 1 -c -f -u https://e4ftl01.cr.usgs.gov/MEASURES/SRTMGL1.003/2000.02.11'\n",
    "os.system(dl_dem1)\n",
    "\n",
    "os.chdir(dem3_dir)\n",
    "dl_dem3 = f'dem.py -a stitch -b {box} -k -s 3 -c -f -u https://e4ftl01.cr.usgs.gov/MEASURES/SRTMGL3.003/2000.02.11'\n",
    "os.system(dl_dem3)\n",
    "\n",
    "os.chdir(wb_dir)\n",
    "wb_dem3 = f'wbd.py {box}'\n",
    "os.system(wb_dem3)"
   ]
  }
 ],
 "metadata": {
  "kernelspec": {
   "display_name": "Python 3.7.13 ('geo')",
   "language": "python",
   "name": "python3"
  },
  "language_info": {
   "codemirror_mode": {
    "name": "ipython",
    "version": 3
   },
   "file_extension": ".py",
   "mimetype": "text/x-python",
   "name": "python",
   "nbconvert_exporter": "python",
   "pygments_lexer": "ipython3",
   "version": "3.7.13"
  },
  "orig_nbformat": 4,
  "vscode": {
   "interpreter": {
    "hash": "630114ded1cb6136faf7350823e03790fe4102d781074abef124d6f86b9fe410"
   }
  }
 },
 "nbformat": 4,
 "nbformat_minor": 2
}
