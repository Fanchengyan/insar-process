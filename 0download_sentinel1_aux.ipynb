{
 "cells": [
  {
   "cell_type": "markdown",
   "metadata": {},
   "source": [
    "# 使用Python批量下载哨兵一号（sentinel-1）的精密轨道数据\n",
    "\n",
    "## 1. 安装Python及data_downloader包"
   ]
  },
  {
   "cell_type": "markdown",
   "metadata": {},
   "source": [
    "本文使用的是Python脚本，来批量下载文件。如果使用本文的下载方式，请先下载Python3.6以上的版本，并使用pip安装data_downloader包:\n",
    "\n",
    "```bash\n",
    "pip install data_downloader\n",
    "```\n",
    "\n",
    "> **注意：** 为了方便使用，现已将sentinel-1 orbit数据集成到了data_downloader。如果之前装过data_downloader, 执行下面脚本前，需要升级你的版本（version>=0.5.1）：\n",
    "```bash\n",
    "pip install data_downloader -U\n",
    "```"
   ]
  },
  {
   "cell_type": "markdown",
   "metadata": {},
   "source": [
    "## 2. 将登录信息写入 .netrc 文件\n",
    "\n",
    "本教程使用从AFS下载精密轨道数据需要NASA的授权，所以需要在`.netrc`中加入登录信息，这样下载的时候就不会因登录信息而被拒绝访问。\n",
    "\n",
    "将下面代码中的`your_username`与`your_password`，改为自己在哨兵官网注册的用户名与密码，并复制到Python编辑器中执行。"
   ]
  },
  {
   "cell_type": "markdown",
   "metadata": {},
   "source": [
    ">**注意：** 如果.netrc文件已经有NASA的登录信息，这步可以跳过"
   ]
  },
  {
   "cell_type": "code",
   "execution_count": null,
   "metadata": {},
   "outputs": [],
   "source": [
    "from data_downloader import downloader, parse_urls\n",
    "from pathlib import Path\n",
    "import pandas as pd\n",
    "import datetime as dt\n",
    "\n",
    "netrc = downloader.Netrc()\n",
    "netrc.add(\"urs.earthdata.nasa.gov\", \"your_username\", \"your_password\")\n",
    "\n",
    "# 查看写入结果\n",
    "print(netrc)"
   ]
  },
  {
   "cell_type": "markdown",
   "metadata": {},
   "source": [
    "## 2. 下载精密轨道数据与辅助数据\n",
    "哨兵一号的精密轨道数据（aux_poeorb, Precise orbit）与辅助数据(aux_cal,  Auxiliary data) 可以从欧空局与AFS下载。由于欧空局这两年换了几次下载链接，本教程采用的是从AFS上下载。\n",
    "\n",
    "复制并运行下面代码即可下载。\n",
    "\n",
    "> Tip： data_downloader支持断点续传，如果程序意外中断，重新执行脚本即可，程序会跳过下载完成的文件，并继续下载未下载完全的部分。"
   ]
  },
  {
   "cell_type": "code",
   "execution_count": null,
   "metadata": {},
   "outputs": [],
   "source": [
    "from data_downloader import downloader, SentinelOrbit\n",
    "from pathlib import Path\n",
    "\n",
    "folder_cal = Path(\"/media/data/aux_cal\")  # 指定aux_cal，**辅助数据** 的下载文件夹\n",
    "folder_preorb = Path(\"/media/data/poeorb\")  # 指定aux_poeorb，**精密轨道数据** 的下载文件夹\n",
    "\n",
    "s1_orbit = SentinelOrbit()\n",
    "\n",
    "############# download aux_cal  #####################\n",
    "urls_cal = s1_orbit.cal_urls(platform=\"all\")  # 获取S1A与S1B的所有辅助数据的链接\n",
    "downloader.async_download_datas(urls_cal, folder=folder_cal) # 执行下载\n",
    "\n",
    "\n",
    "########### download precise orbit #####################\n",
    "urls_preorb = s1_orbit.poeorb_urls(\n",
    "    date_start=\"20210101\", date_end=\"20220301\", platform=\"S1A\"\n",
    ")  # 获取所有S1A在20210101-20220301期间的精密轨道数据的链接\n",
    "downloader.download_datas(urls_preorb, folder=folder_preorb) # 执行下载"
   ]
  }
 ],
 "metadata": {
  "kernelspec": {
   "display_name": "Python 3.7.13 ('geo')",
   "language": "python",
   "name": "python3"
  },
  "language_info": {
   "codemirror_mode": {
    "name": "ipython",
    "version": 3
   },
   "file_extension": ".py",
   "mimetype": "text/x-python",
   "name": "python",
   "nbconvert_exporter": "python",
   "pygments_lexer": "ipython3",
   "version": "3.11.6"
  },
  "orig_nbformat": 4,
  "vscode": {
   "interpreter": {
    "hash": "630114ded1cb6136faf7350823e03790fe4102d781074abef124d6f86b9fe410"
   }
  }
 },
 "nbformat": 4,
 "nbformat_minor": 2
}
