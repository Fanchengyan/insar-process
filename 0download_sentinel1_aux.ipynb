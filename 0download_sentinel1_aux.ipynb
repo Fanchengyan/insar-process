{
 "cells": [
  {
   "cell_type": "markdown",
   "metadata": {},
   "source": [
    "# 使用Python批量下载哨兵一号（sentinel-1）的精密轨道数据\n",
    "\n",
    "## 1. 安装Python及data_downloader包\n",
    "本文使用的是Python脚本，来批量下载文件。如果使用本文的下载方式，请先下载Python3.6以上的版本，并使用pip安装data_downloader包:\n",
    "\n",
    "```bash\n",
    "pip install data_downloader\n",
    "```\n",
    "\n",
    "本教程使用从AFS下载精密轨道数据需要NASA的授权，所以需要在`.netrc`中加入登录信息，这样下载的时候就不会因登录信息而被拒绝访问。\n",
    "\n",
    "将下面代码中的`your_username`与`your_password`，改为自己在哨兵官网注册的用户名与密码，并复制到Python编辑器中执行。\n"
   ]
  },
  {
   "cell_type": "code",
   "execution_count": null,
   "metadata": {},
   "outputs": [],
   "source": [
    "from data_downloader import downloader,parse_urls\n",
    "from pathlib import Path\n",
    "import pandas as pd\n",
    "import datetime as dt\n",
    "\n",
    "netrc = downloader.Netrc()\n",
    "netrc.add('urs.earthdata.nasa.gov', 'your_username', 'your_password')"
   ]
  },
  {
   "cell_type": "markdown",
   "metadata": {},
   "source": [
    "## 2. 下载精密轨道数据与辅助数据\n",
    "哨兵一号的精密轨道数据（aux_poeorb, Precise orbit）与辅助数据(aux_cal,  Auxiliary data) 可以从欧空局与AFS下载。由于欧空局这两年换了几次下载链接，本教程采用的是从AFS上下载。\n",
    "\n",
    "复制并运行下面代码即可下载。"
   ]
  },
  {
   "cell_type": "code",
   "execution_count": null,
   "metadata": {},
   "outputs": [],
   "source": [
    "# 指定aux_cal，辅助数据 的下载文件夹\n",
    "folder_aux = Path('/media/data/aux')  \n",
    "\n",
    "# 指定aux_poeorb，精密轨道数据 的下载文件夹\n",
    "folder_preorb = Path('/media/data/poeorb') \n",
    "\n",
    "\n",
    "def filter_aux_cal_urls(urls, platform='all'):\n",
    "    '''filter files from urls of aux_cal by platform.\n",
    "    \n",
    "    Parameters:\n",
    "    ----------\n",
    "    urls : list\n",
    "        a list contains the urls of aux_cal \n",
    "    platform : str\n",
    "        platform of satellite. should be one of ['S1A', 'S1B','all']  \n",
    "    '''\n",
    "    if platform in ['S1A', 'S1B','all']:\n",
    "        if platform == 'all':\n",
    "            platform = ['S1A', 'S1B']\n",
    "        else:\n",
    "            platform = [platform]\n",
    "    else:\n",
    "        raise ValueError(\"platform must be one of ['S1A', 'S1B','all']\")\n",
    "    \n",
    "    _urls = [i for i in urls if Path(i).suffix == '.SAFE']\n",
    "    urls_filter = [i for i in _urls if Path(i).stem[:3] in platform]\n",
    "    \n",
    "    return urls_filter\n",
    "            \n",
    "\n",
    "def filter_aux_poeorb_urls(urls, date_start, date_end, platform='all'):\n",
    "    '''filter files from urls of aux_poeorb(precise orbit) by date and platform.\n",
    "    \n",
    "    Parameters:\n",
    "    ----------\n",
    "    urls : list\n",
    "        a list contains the urls of aux_cal\n",
    "    date_start, date_end : str\n",
    "    \tstart/end date to filter\n",
    "    platform : str\n",
    "        platform of satellite. should be one of ['S1A', 'S1B','all']  \n",
    "    '''\n",
    "    if platform in ['S1A', 'S1B', 'all']:\n",
    "        if platform == 'all':\n",
    "            platform = ['S1A', 'S1B']\n",
    "        else:\n",
    "            platform = [platform]\n",
    "    else:\n",
    "        raise ValueError(\"platform must be one of ['S1A', 'S1B','all']\")\n",
    "\n",
    "    date_start = pd.to_datetime(date_start).date()\n",
    "    date_end = pd.to_datetime(date_end).date()\n",
    "    \n",
    "    _urls = [i for i in urls if Path(i).suffix == '.EOF']\n",
    "    urls_filter = []\n",
    "    for i in _urls:\n",
    "        name = Path(i).stem\n",
    "        dt_i = (pd.to_datetime(name.split('_')[-1]).date() \n",
    "                - dt.timedelta(days=1))\n",
    "        \n",
    "        if (name[:3] in platform and \n",
    "            date_start <= dt_i <= date_end):\n",
    "            urls_filter.append(i)\n",
    "        \n",
    "    return urls_filter\n",
    "\n",
    "\t\t\t\t\t# 执行下载 #\n",
    "# ########### download aux_cal  #####################\n",
    "home_aux_cal = 'https://s1qc.asf.alaska.edu/aux_cal/'\n",
    "urls_aux_cal = parse_urls.from_html(home_aux_cal)\n",
    "urls = filter_aux_cal_urls(urls_aux_cal,'S1A') # 获取S1A的所有辅助数据的链接\n",
    "downloader.async_download_datas(urls, folder=folder_aux)\n",
    "\n",
    "\n",
    "########### download precise orbit ############\n",
    "home_preorb = 'https://s1qc.asf.alaska.edu/aux_poeorb/'\n",
    "urls_preorb = parse_urls.from_html(home_preorb)\n",
    "urls = filter_aux_poeorb_urls(urls_preorb, \n",
    "                              '20210101', '20220301',\n",
    "                              'S1A') # 获取所有S1A在20210101-20220301期间的精密轨道数据的链接\n",
    "downloader.download_datas(urls, folder=folder_preorb)"
   ]
  }
 ],
 "metadata": {
  "kernelspec": {
   "display_name": "Python 3.7.13 ('geo')",
   "language": "python",
   "name": "python3"
  },
  "language_info": {
   "name": "python",
   "version": "3.7.13"
  },
  "orig_nbformat": 4,
  "vscode": {
   "interpreter": {
    "hash": "630114ded1cb6136faf7350823e03790fe4102d781074abef124d6f86b9fe410"
   }
  }
 },
 "nbformat": 4,
 "nbformat_minor": 2
}
