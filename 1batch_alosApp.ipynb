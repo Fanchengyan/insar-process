{
 "cells": [
  {
   "cell_type": "markdown",
   "metadata": {},
   "source": [
    "# batch running alos2App.py\n",
    "\n",
    "Firstly, let's specify the folders"
   ]
  },
  {
   "cell_type": "code",
   "execution_count": null,
   "metadata": {},
   "outputs": [],
   "source": [
    "import os\n",
    "from pathlib import Path\n",
    "\n",
    "# home folder for batch\n",
    "home_dir = Path('/data/alos2/isce_process')\n",
    "# folder containing alos2 data\n",
    "alos_data_dir = home_dir / 'alos_data'\n",
    "# folder to save interferograms\n",
    "ifgs_dir = home_dir / 'ifgs'\n",
    "\n",
    "# folder contains aux data\n",
    "aux_dir = home_dir / 'aux_data'\n",
    "\n",
    "dem1_dir = aux_dir / 'dem_1_arcsec'\n",
    "dem3_dir = aux_dir / 'dem_3_arcsec'\n",
    "wb_dir = aux_dir / 'wbd_1_arcsec'"
   ]
  },
  {
   "cell_type": "markdown",
   "metadata": {},
   "source": [
    "Specify the ifg pairs"
   ]
  },
  {
   "cell_type": "code",
   "execution_count": null,
   "metadata": {},
   "outputs": [],
   "source": [
    "pars = [\n",
    "    ['210919', '220114'],\n",
    "    ['210919', '220123'],\n",
    "    ['210919', '211212'],\n",
    "    ['210919', '211031'],\n",
    "]\n"
   ]
  },
  {
   "cell_type": "markdown",
   "metadata": {},
   "source": [
    "Specify the configs of 'alos2App.xml' file."
   ]
  },
  {
   "cell_type": "code",
   "execution_count": null,
   "metadata": {},
   "outputs": [],
   "source": [
    "str = '''<?xml version=\"1.0\" encoding=\"UTF-8\"?>\n",
    "<alos2App>\n",
    "  <component name=\"alos2insar\">\n",
    "\n",
    "    <property name=\"reference directory\">{}</property>\n",
    "    <property name=\"secondary directory\">{}</property>\n",
    "\n",
    "    <property name=\"dem for coregistration\">{}</property>\n",
    "    <property name=\"dem for geocoding\">{}</property>\n",
    "    <property name=\"water body\">{}</property>\n",
    "\n",
    "    <property name=\"geocode bounding box\">[38.4573,39.0911,98.6675,99.3582]</property>\n",
    "\n",
    "    <property name=\"interferogram filter strength\">{}</property> \n",
    "    <property name=\"interferogram filter window size\">{}</property>\n",
    "\n",
    "    <property name=\"number of range looks ion\">40</property>\n",
    "    <property name=\"number of azimuth looks ion\">16</property>\n",
    "  </component>\n",
    "</alos2App>\n",
    "'''"
   ]
  },
  {
   "cell_type": "markdown",
   "metadata": {},
   "source": [
    "Now, let's batch running alos2App.py"
   ]
  },
  {
   "cell_type": "code",
   "execution_count": null,
   "metadata": {},
   "outputs": [],
   "source": [
    "fs, ws = 0.1, 3\n",
    "for p in pars:\n",
    "    ref, sec = p\n",
    "    folder_ref = alos_data_dir / ref\n",
    "    folder_sec = alos_data_dir / sec\n",
    "\n",
    "    name = f'{ref}-{sec}'\n",
    "    work_dir = ifgs_dir / name\n",
    "\n",
    "    work_dir.mkdir(exist_ok=True, parents=True)\n",
    "\n",
    "    os.chdir(work_dir)\n",
    "\n",
    "    # link aux\n",
    "    os.system(f'ln -s {aux_dir}/* ./')\n",
    "\n",
    "    dem1 = list(aux_dir.joinpath('dem_1_arcsec').glob('*.wgs84'))[0]\n",
    "    dem3 = list(aux_dir.joinpath('dem_3_arcsec').glob('*.wgs84'))[0]\n",
    "    wbd1 = list(aux_dir.joinpath('wbd_1_arcsec').glob('*.wbd'))[0]\n",
    "\n",
    "    xml = str.format(folder_ref, folder_sec, dem1,\n",
    "                     dem3, wbd1,\n",
    "                     fs, ws)\n",
    "    xml_file = work_dir / 'alos2App.xml'\n",
    "    with open(xml_file, 'w') as f:\n",
    "        f.write(xml)\n",
    "\n",
    "    print(f'\\n==============  {ref}-{sec} ==============')\n",
    "\n",
    "    os.system('alos2App.py --start=startup')\n"
   ]
  }
 ],
 "metadata": {
  "kernelspec": {
   "display_name": "Python 3.7.13 ('geo')",
   "language": "python",
   "name": "python3"
  },
  "language_info": {
   "name": "python",
   "version": "3.7.13"
  },
  "orig_nbformat": 4,
  "vscode": {
   "interpreter": {
    "hash": "630114ded1cb6136faf7350823e03790fe4102d781074abef124d6f86b9fe410"
   }
  }
 },
 "nbformat": 4,
 "nbformat_minor": 2
}
